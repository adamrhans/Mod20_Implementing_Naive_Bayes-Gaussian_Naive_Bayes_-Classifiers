{
 "cells": [
  {
   "cell_type": "markdown",
   "id": "af4f8aaa",
   "metadata": {},
   "source": [
    "# Module 20 Final Assignment: Implementing Naïve Bayes and Gaussian Naïve Bayes Classifiers\n",
    "\n",
    "\n",
    "## Learning Outcomes Addressed:\n",
    "6. Implement spam detection using Python.\n",
    "8. Implement Naïve Bayes theorem using Scikit-learn.\n",
    "9. Implement Gaussian Naïve Bayes theorem using Scikit-learn.\n",
    "\n",
    "## Assignment Overview\n",
    "\n",
    "In this assignment you will be working on implementing Naïve Bayes and Gaussian Naïve Bayes classifiers using the Python Scikit-learn *library*. In the first part of the assignment, you will be working with a dummy dataset to implement a simple Naïve Bayes classifier that classifies the data into binary values.\n",
    "\n",
    "In the second part of the assignment, you will extend your Naïve Bayes classifier to make predictions on more than two labels using the `Wine` dataset from the Scikit-learn *library*.\n",
    "\n",
    "Finally, in the third part of the assignment, you will be working with a dataset that contains both normal and spam SMS messages. For this last exercise, you will be using a Gaussian Naïve Bayes classifier to predict whether a message is normal or spam."
   ]
  },
  {
   "cell_type": "markdown",
   "id": "7cacc646",
   "metadata": {},
   "source": [
    "## Part 1: Naïve Bayes Classifier\n",
    "\n",
    "The first exercise of this assignment will guide you through a simple implementation of a Naïve Bayes classifier using the Scikit-learn *library* and a dummy dataset with three columns: `weather`, `temperature`, and `play`. The first two are features (`weather` and `temperature`) and `play` is the label.\n",
    "\n",
    "The goal of the classifier will be to decide on whether you want to play an outdoor activity based on the weather and the temperature.\n",
    "\n",
    "In the code cell below, the `weather` and `temperature` features and the `play` label are defined. Run the code cell below to define your data."
   ]
  },
  {
   "cell_type": "code",
   "execution_count": 3,
   "id": "717b060c",
   "metadata": {},
   "outputs": [],
   "source": [
    "# Assigning features and label variables\n",
    "weather=['Sunny','Sunny','Overcast','Rainy','Rainy','Rainy','Overcast','Sunny','Sunny',\n",
    "'Rainy','Sunny','Overcast','Overcast','Rainy']\n",
    "temperature=['Hot','Hot','Hot','Mild','Cool','Cool','Cool','Mild','Cool','Mild','Mild','Mild','Hot','Mild']\n",
    "\n",
    "play=['No','No','Yes','Yes','Yes','No','Yes','No','Yes','Yes','Yes','Yes','Yes','No']\n"
   ]
  },
  {
   "cell_type": "markdown",
   "id": "c378c851",
   "metadata": {},
   "source": [
    "The first thing you need to do is to convert the *string* labels into numbers. In other words, you want to encode each label in the `weather` *list* into a number. \n",
    "\n",
    "Because the `weather` *list* contains only 14 entries and only three different labels (`Sunny`, `Overcast`, and `Rainy`), you can manually encode these *strings*. For example, you can do this by assigning the value 0 to the `Rainy` *string*, the value 1 to the `Overcast` *string*, and the value 2 to the `Sunny` *string*.\n",
    "\n",
    "Although this may be a viable option for this example, encoding the labels manually could easily result in errors in your code.\n",
    "\n",
    "The Scikit-learn *library* provides a `LabelEncoder()` *function* for encoding labels with a value between 0 and one less than the number of discrete *classes*.\n",
    "\n",
    "The pseudocode below demonstrates how to use this *function*:\n",
    "\n",
    "```Python\n",
    "# Import LabelEncoder\n",
    "from sklearn import preprocessing\n",
    "#creating labelEncoder\n",
    "le = preprocessing.LabelEncoder()\n",
    "# Converting string labels into numbers.\n",
    "label_encoded=le.fit_transform(label_to_encode)\n",
    "```\n",
    "### Question 1\n",
    "\n",
    "In the code cell below, complete the code to encode the `weather` *label*."
   ]
  },
  {
   "cell_type": "code",
   "execution_count": 4,
   "id": "767b62aa",
   "metadata": {},
   "outputs": [],
   "source": [
    "# Import LabelEncoder\n",
    "from sklearn import preprocessing\n",
    "#creating labelEncoder\n",
    "le = preprocessing.LabelEncoder()\n",
    "# Converting string labels into numbers.\n",
    "weather_encoded = le.fit_transform(weather)\n"
   ]
  },
  {
   "cell_type": "code",
   "execution_count": 5,
   "id": "6459e0ed",
   "metadata": {},
   "outputs": [
    {
     "name": "stdout",
     "output_type": "stream",
     "text": [
      "[2 2 0 1 1 1 0 2 2 1 2 0 0 1]\n"
     ]
    }
   ],
   "source": [
    "print(weather_encoded)"
   ]
  },
  {
   "cell_type": "markdown",
   "id": "a23a5e7c",
   "metadata": {},
   "source": [
    "Similarly, you can also encode the *`temperature`* and the *`play`* columns.\n",
    "\n",
    "### Question 2\n",
    "In the code cell below, complete the code to encode the remaining two columns."
   ]
  },
  {
   "cell_type": "code",
   "execution_count": 6,
   "id": "08240109",
   "metadata": {},
   "outputs": [],
   "source": [
    "# Converting string labels into numbers\n",
    "temp_encoded=le.fit_transform(temperature)\n",
    "play_encoded=le.fit_transform(play)"
   ]
  },
  {
   "cell_type": "code",
   "execution_count": 7,
   "id": "e47730ef",
   "metadata": {},
   "outputs": [
    {
     "name": "stdout",
     "output_type": "stream",
     "text": [
      "[1 1 1 2 0 0 0 2 0 2 2 2 1 2]\n"
     ]
    }
   ],
   "source": [
    "print(temp_encoded)"
   ]
  },
  {
   "cell_type": "code",
   "execution_count": 8,
   "id": "44b1c129",
   "metadata": {},
   "outputs": [
    {
     "name": "stdout",
     "output_type": "stream",
     "text": [
      "[0 0 1 1 1 0 1 0 1 1 1 1 1 0]\n"
     ]
    }
   ],
   "source": [
    "print(play_encoded)"
   ]
  },
  {
   "cell_type": "markdown",
   "id": "544d7ccc",
   "metadata": {},
   "source": [
    "### Question 3\n",
    "In the code cell below, create a NumPy *array* using the `weather_encoded` and `temp_encoded` *lists*."
   ]
  },
  {
   "cell_type": "code",
   "execution_count": 9,
   "id": "e64e2815",
   "metadata": {},
   "outputs": [],
   "source": [
    "import numpy as np\n",
    "features=np.array([weather_encoded, temp_encoded])"
   ]
  },
  {
   "cell_type": "code",
   "execution_count": 10,
   "id": "df0f39cf",
   "metadata": {},
   "outputs": [
    {
     "name": "stdout",
     "output_type": "stream",
     "text": [
      "[[2 2 0 1 1 1 0 2 2 1 2 0 0 1]\n",
      " [1 1 1 2 0 0 0 2 0 2 2 2 1 2]]\n"
     ]
    }
   ],
   "source": [
    "print(features)"
   ]
  },
  {
   "cell_type": "markdown",
   "id": "8e180fc7",
   "metadata": {},
   "source": [
    "Now, you are ready to generate a model using Scikit-learn to create a Naïve Bayes classifier by using the following steps:\n",
    "\n",
    "- Create the Naïve Bayes classifier.\n",
    "- Fit the dataset on the classifier.\n",
    "- Perform the prediction.\n",
    "\n",
    "Run the code cell below:"
   ]
  },
  {
   "cell_type": "code",
   "execution_count": 11,
   "id": "01313ed3",
   "metadata": {},
   "outputs": [
    {
     "data": {
      "text/plain": [
       "GaussianNB()"
      ]
     },
     "execution_count": 11,
     "metadata": {},
     "output_type": "execute_result"
    }
   ],
   "source": [
    "#Import Gaussian Naive Bayes model\n",
    "from sklearn.naive_bayes import GaussianNB\n",
    "\n",
    "#Create a Gaussian Classifier\n",
    "model = GaussianNB()\n",
    "\n",
    "# Train the model using the training sets\n",
    "model.fit(features.reshape(14, 2),play_encoded)\n",
    "\n"
   ]
  },
  {
   "cell_type": "markdown",
   "id": "06012997",
   "metadata": {},
   "source": [
    "Next, let's have a look at some predictions.\n",
    "\n",
    "You will first try to predict whether you want to play outside if the weather is overcast and the temperature is mild."
   ]
  },
  {
   "cell_type": "code",
   "execution_count": 12,
   "id": "af209179",
   "metadata": {},
   "outputs": [
    {
     "name": "stdout",
     "output_type": "stream",
     "text": [
      "Predicted Value: [1]\n"
     ]
    }
   ],
   "source": [
    "#Predict Output\n",
    "predicted= model.predict([[0,2]]) # 0:Overcast, 2:Mild\n",
    "print(\"Predicted Value:\", predicted)"
   ]
  },
  {
   "cell_type": "markdown",
   "id": "31eacefa",
   "metadata": {},
   "source": [
    "### Question 4:\n",
    "\n",
    "What does the predicted value represent? This is an open-ended question that requires a written response.\n",
    "    \n",
    "    \n",
    "You can double-click this cell to write your answer.\n",
    "\n",
    "Question 4: since the value returned was 1 - it means we have slightly overcast/mild temps and may want to go play\n"
   ]
  },
  {
   "cell_type": "markdown",
   "id": "946cda9c",
   "metadata": {},
   "source": [
    "Next, let's predict whether you want to play outside if it's rainy and hot."
   ]
  },
  {
   "cell_type": "code",
   "execution_count": 13,
   "id": "17eadb8e",
   "metadata": {},
   "outputs": [
    {
     "name": "stdout",
     "output_type": "stream",
     "text": [
      "Predicted Value: [1]\n"
     ]
    }
   ],
   "source": [
    "#Predict Output\n",
    "predicted= model.predict([[1,1]]) # 1:Rainy, 1:Hot\n",
    "print(\"Predicted Value:\", predicted)"
   ]
  },
  {
   "cell_type": "markdown",
   "id": "e23b6a5a",
   "metadata": {},
   "source": [
    "### Question 5\n",
    "\n",
    "What does the predicted value represent? This is an open-ended question that requires a written response.\n",
    "    \n",
    "    \n",
    "You can double-click this cell to write your answer.\n",
    "\n",
    "\n",
    "Question 5: (Write your answer here.)"
   ]
  },
  {
   "cell_type": "markdown",
   "id": "6089725e",
   "metadata": {},
   "source": [
    "## Part 2: Naïve Bayes Classifier with a Multiple Labels\n",
    "\n",
    "In Part 1 of this assignment, you worked on a problem that classified your outcome either as 1 or 0.\n",
    "\n",
    "In this part of the assignment, you will learn how to classify a problem with more than two possible outcomes.\n",
    "\n",
    "For this exercise, you will use the [`Wine`](https://scikit-learn.org/stable/modules/generated/sklearn.datasets.load_wine.html#sklearn.datasets.load_wine) dataset from the Scikit-learn *library*.\n",
    "\n",
    "This dataset is comprised of 13 features (`alcohol`, `malic_acid`, `ash`, `alkalinity_of_ash`, `magnesium`, `total_phenols`, `flavanoids`, `nonflavanoid_phenols`, `proanthocyanins`, `color_intensity`, `hue`, `od280/od315_of_diluted_wines`, and  `proline`) and it has three types of wine: `Class_0`, `Class_1`, and `Class_2`. \n",
    "\n",
    "Let's start by importing the dataset from Scikit-learn. Run the code cell below:"
   ]
  },
  {
   "cell_type": "code",
   "execution_count": 14,
   "id": "af542f75",
   "metadata": {},
   "outputs": [],
   "source": [
    "#Import scikit-learn dataset library\n",
    "from sklearn import datasets\n",
    "\n",
    "#Load dataset\n",
    "wine = datasets.load_wine()"
   ]
  },
  {
   "cell_type": "markdown",
   "id": "6aad7c69",
   "metadata": {},
   "source": [
    "The code cell below *prints* the name of the features in the dataset. Run the code cell below."
   ]
  },
  {
   "cell_type": "code",
   "execution_count": 15,
   "id": "ddc93387",
   "metadata": {},
   "outputs": [
    {
     "name": "stdout",
     "output_type": "stream",
     "text": [
      "Features:  ['alcohol', 'malic_acid', 'ash', 'alcalinity_of_ash', 'magnesium', 'total_phenols', 'flavanoids', 'nonflavanoid_phenols', 'proanthocyanins', 'color_intensity', 'hue', 'od280/od315_of_diluted_wines', 'proline']\n"
     ]
    }
   ],
   "source": [
    "# print the names of the 13 features\n",
    "print(\"Features: \", wine.feature_names)"
   ]
  },
  {
   "cell_type": "markdown",
   "id": "6a809f74",
   "metadata": {},
   "source": [
    "### Question 6\n",
    "Complete the code cell below to *print* the name of the label. Note that in this dataset the name of the label can be accessed by using the `target_names` *attribute*."
   ]
  },
  {
   "cell_type": "code",
   "execution_count": 16,
   "id": "8cbc14c4",
   "metadata": {},
   "outputs": [
    {
     "name": "stdout",
     "output_type": "stream",
     "text": [
      "Labels:  ['class_0' 'class_1' 'class_2']\n"
     ]
    }
   ],
   "source": [
    "# print the label type of wine(Class_0, Class_1, Class_2)\n",
    "print(\"Labels: \", wine.target_names)"
   ]
  },
  {
   "cell_type": "markdown",
   "id": "7b784570",
   "metadata": {},
   "source": [
    "### Splitting the Data Into a Training and a Testing Set\n",
    "\n",
    "Because this dataset is widely used by the data science community, the features and labels are already defined.\n",
    "\n",
    "The feature data can be accessed via the `wine.data` code. The labels can be accessed via the `wine.target` code.\n",
    "\n",
    "Therefore, you can simply split the features and labels into training and testing sets by using the [*`train_test_split()`*](https://scikit-learn.org/stable/modules/generated/sklearn.model_selection.train_test_split.html) *function* from Scikit-learn.\n",
    "\n",
    "### Question 7\n",
    "Complete the code in the code cell below by setting the size of the testing set equal to 30% of the entire data. Set the `random_state` equal to 109."
   ]
  },
  {
   "cell_type": "code",
   "execution_count": 17,
   "id": "01620d5a",
   "metadata": {},
   "outputs": [],
   "source": [
    "# Import train_test_split function\n",
    "from sklearn.model_selection import train_test_split\n",
    "\n",
    "# Split dataset into training set and test set\n",
    "X_train, X_test, y_train, y_test = train_test_split(wine.data, wine.target, test_size=.3 ,random_state=109) "
   ]
  },
  {
   "cell_type": "markdown",
   "id": "780d977e",
   "metadata": {},
   "source": [
    "Now you are ready to generate a model using Scikit-learn to create a Naïve Bayes classifier by using the following steps:\n",
    "\n",
    "- Create the Naïve Bayes classifier.\n",
    "- Fit the dataset on the classifier.\n",
    "- Perform the prediction.\n",
    "\n",
    "### Question 8\n",
    "\n",
    "In the code cell below, create a Gaussian Naïve Bayes `gnb` classifier. Next, fit the training sets dataset on the classifier by using the `fit()` *function*. Finally, perform a prediction by using the `predict()` *function* on your `X_test` set."
   ]
  },
  {
   "cell_type": "code",
   "execution_count": 18,
   "id": "b08cef84",
   "metadata": {},
   "outputs": [],
   "source": [
    "#Import Gaussian Naive Bayes model\n",
    "from sklearn.naive_bayes import GaussianNB\n",
    "\n",
    "#Create a Gaussian Classifier\n",
    "gnb = GaussianNB()\n",
    "\n",
    "#Train the model using the training sets\n",
    "gnb.fit(X_train, y_train)\n",
    "\n",
    "#Predict the response for test dataset\n",
    "y_pred = gnb.predict(X_test)"
   ]
  },
  {
   "cell_type": "markdown",
   "id": "7e73baa7",
   "metadata": {},
   "source": [
    "Now you are ready to check the accuracy using actual and predicted values.\n",
    "\n",
    "### Question 9\n",
    "\n",
    "In the code cell below, fill in the ellipsis with *`y_test`* and *`y_pred`* to compute the accuracy of your model."
   ]
  },
  {
   "cell_type": "code",
   "execution_count": 21,
   "id": "00990a9a",
   "metadata": {},
   "outputs": [
    {
     "name": "stdout",
     "output_type": "stream",
     "text": [
      "Accuracy: 0.9074074074074074\n"
     ]
    }
   ],
   "source": [
    "#Import scikit-learn metrics module for accuracy calculation\n",
    "from sklearn import metrics\n",
    "\n",
    "# Model Accuracy, how often is the classifier correct?\n",
    "print(\"Accuracy:\",metrics.accuracy_score(y_test,y_pred))"
   ]
  },
  {
   "cell_type": "markdown",
   "id": "74cf3250",
   "metadata": {},
   "source": [
    "## Part 3: Gaussian Naïve Bayes Classifier to Classify Spam SMS Messages\n",
    "\n",
    "In the last exercise for this assignment, you will work on using a Gaussian Naïve Bayes classifier to classify spam emails.\n",
    "\n",
    "For this exercise, you will use the [`\n",
    "SMS Spam Collection Dataset `](https://archive.ics.uci.edu/ml/datasets/sms+spam+collection) which contains 5,572 SMS messages.\n",
    "\n",
    "Run the code cell below to read the data."
   ]
  },
  {
   "cell_type": "code",
   "execution_count": 22,
   "id": "a975547d",
   "metadata": {},
   "outputs": [],
   "source": [
    "import pandas as pd\n",
    "\n",
    "\n",
    "\n",
    "sms_spam = pd.read_csv('SMSSpamCollection', sep='\\t',\n",
    "header=None, names=['label', 'text'])\n"
   ]
  },
  {
   "cell_type": "markdown",
   "id": "dea7c777",
   "metadata": {},
   "source": [
    "### Question 10\n",
    "\n",
    "In the code cells below, use the correct `pandas` *functions* to retrieve the shape of the `sms_spam` *dataframe* and to visualize its first five rows."
   ]
  },
  {
   "cell_type": "code",
   "execution_count": 24,
   "id": "d394dd38",
   "metadata": {},
   "outputs": [
    {
     "data": {
      "text/plain": [
       "(5572, 2)"
      ]
     },
     "execution_count": 24,
     "metadata": {},
     "output_type": "execute_result"
    }
   ],
   "source": [
    "#print the shape\n",
    "sms_spam.shape\n",
    "\n"
   ]
  },
  {
   "cell_type": "code",
   "execution_count": 25,
   "id": "1a31d2a0",
   "metadata": {},
   "outputs": [
    {
     "data": {
      "text/html": [
       "<div>\n",
       "<style scoped>\n",
       "    .dataframe tbody tr th:only-of-type {\n",
       "        vertical-align: middle;\n",
       "    }\n",
       "\n",
       "    .dataframe tbody tr th {\n",
       "        vertical-align: top;\n",
       "    }\n",
       "\n",
       "    .dataframe thead th {\n",
       "        text-align: right;\n",
       "    }\n",
       "</style>\n",
       "<table border=\"1\" class=\"dataframe\">\n",
       "  <thead>\n",
       "    <tr style=\"text-align: right;\">\n",
       "      <th></th>\n",
       "      <th>label</th>\n",
       "      <th>text</th>\n",
       "    </tr>\n",
       "  </thead>\n",
       "  <tbody>\n",
       "    <tr>\n",
       "      <th>0</th>\n",
       "      <td>ham</td>\n",
       "      <td>Go until jurong point, crazy.. Available only ...</td>\n",
       "    </tr>\n",
       "    <tr>\n",
       "      <th>1</th>\n",
       "      <td>ham</td>\n",
       "      <td>Ok lar... Joking wif u oni...</td>\n",
       "    </tr>\n",
       "    <tr>\n",
       "      <th>2</th>\n",
       "      <td>spam</td>\n",
       "      <td>Free entry in 2 a wkly comp to win FA Cup fina...</td>\n",
       "    </tr>\n",
       "    <tr>\n",
       "      <th>3</th>\n",
       "      <td>ham</td>\n",
       "      <td>U dun say so early hor... U c already then say...</td>\n",
       "    </tr>\n",
       "    <tr>\n",
       "      <th>4</th>\n",
       "      <td>ham</td>\n",
       "      <td>Nah I don't think he goes to usf, he lives aro...</td>\n",
       "    </tr>\n",
       "  </tbody>\n",
       "</table>\n",
       "</div>"
      ],
      "text/plain": [
       "  label                                               text\n",
       "0   ham  Go until jurong point, crazy.. Available only ...\n",
       "1   ham                      Ok lar... Joking wif u oni...\n",
       "2  spam  Free entry in 2 a wkly comp to win FA Cup fina...\n",
       "3   ham  U dun say so early hor... U c already then say...\n",
       "4   ham  Nah I don't think he goes to usf, he lives aro..."
      ]
     },
     "execution_count": 25,
     "metadata": {},
     "output_type": "execute_result"
    }
   ],
   "source": [
    "#visualize the first five rows\n",
    "\n",
    "sms_spam.head()"
   ]
  },
  {
   "cell_type": "markdown",
   "id": "098a6ffc",
   "metadata": {},
   "source": [
    "### Question 11\n",
    "\n",
    "In the code code cell below, use the pandas [*`value_counts()`*](https://pandas.pydata.org/docs/reference/api/pandas.Series.value_counts.html) *function* to see how many messages are normal and how many are spam.\n",
    "\n",
    "Inside the *function*, set the `normalize` *argument* equal to True."
   ]
  },
  {
   "cell_type": "code",
   "execution_count": 26,
   "id": "628382b9",
   "metadata": {},
   "outputs": [
    {
     "data": {
      "text/plain": [
       "ham     0.865937\n",
       "spam    0.134063\n",
       "Name: label, dtype: float64"
      ]
     },
     "execution_count": 26,
     "metadata": {},
     "output_type": "execute_result"
    }
   ],
   "source": [
    "sms_spam['label'].value_counts(normalize=True)"
   ]
  },
  {
   "cell_type": "markdown",
   "id": "8d1d7479",
   "metadata": {},
   "source": [
    "You can see that about 87% of the messages are ham (non-spam), and the remaining 13% are spam. "
   ]
  },
  {
   "cell_type": "markdown",
   "id": "51c823dd",
   "metadata": {},
   "source": [
    "### Question 12\n",
    "\n",
    "In the code cell below, complete the dictionary inside the `replace` *function* to replace the `ham` values with 0 and the `spam` values with 1."
   ]
  },
  {
   "cell_type": "code",
   "execution_count": 27,
   "id": "f1e0c83b",
   "metadata": {},
   "outputs": [],
   "source": [
    "sms_spam['label'] = (sms_spam['label'].replace({'ham':0,'spam':1}))"
   ]
  },
  {
   "cell_type": "markdown",
   "id": "82ce41d1",
   "metadata": {},
   "source": [
    "### Question 13\n",
    "\n",
    "In the code below, split the `text` feature and the `label` label into training and testing sets. \n",
    "\n",
    "Set the `random_state` variable equal to 1."
   ]
  },
  {
   "cell_type": "code",
   "execution_count": 28,
   "id": "8a90da5d",
   "metadata": {},
   "outputs": [
    {
     "name": "stdout",
     "output_type": "stream",
     "text": [
      "Total: 5572 rows\n",
      "Train: 4179 rows\n",
      " Test: 1393 rows\n"
     ]
    }
   ],
   "source": [
    "from sklearn.model_selection import train_test_split\n",
    "\n",
    "X_train, X_test, y_train, y_test = train_test_split(sms_spam['text'], \n",
    "                                                    sms_spam['label'], \n",
    "                                                    random_state=1)\n",
    "\n",
    "print('Total: {} rows'.format(sms_spam.shape[0]))\n",
    "print('Train: {} rows'.format(X_train.shape[0]))\n",
    "print(' Test: {} rows'.format(X_test.shape[0]))"
   ]
  },
  {
   "cell_type": "markdown",
   "id": "c916878d",
   "metadata": {},
   "source": [
    "Because your data contains categorical (i.e., non-numerical) features, you need to use the `CountVectorizer()` *function* from Scikit-learn to convert the categorical variables to numerical.\n",
    "\n",
    "Note that the `CountVectorizer` *function* is only trained on the training data, but is used to transform both the training and test data.\n",
    "\n",
    "Run the code cell below."
   ]
  },
  {
   "cell_type": "code",
   "execution_count": 29,
   "id": "65bb914f",
   "metadata": {},
   "outputs": [],
   "source": [
    "from sklearn.feature_extraction.text import CountVectorizer\n",
    "\n",
    "count_vector = CountVectorizer()\n",
    "\n",
    "train_data = count_vector.fit_transform(X_train)\n",
    "test_data = count_vector.transform(X_test)"
   ]
  },
  {
   "cell_type": "markdown",
   "id": "e9766c37",
   "metadata": {},
   "source": [
    "### Question 14\n",
    "\n",
    "In the code cell below, you have created a Gaussian Naïve Bayes classifier to train your model.\n",
    "\n",
    "Replace the ellipsis with the names of the `X` and `y` training data defined above.\n",
    "\n",
    "**HINT:** The `X` will be the vectorized set, `train_data`."
   ]
  },
  {
   "cell_type": "code",
   "execution_count": 30,
   "id": "6e987bff",
   "metadata": {},
   "outputs": [
    {
     "data": {
      "text/plain": [
       "MultinomialNB()"
      ]
     },
     "execution_count": 30,
     "metadata": {},
     "output_type": "execute_result"
    }
   ],
   "source": [
    "from sklearn.naive_bayes import MultinomialNB\n",
    "naive_bayes = MultinomialNB()\n",
    "\n",
    "naive_bayes.fit(train_data, y_train)"
   ]
  },
  {
   "cell_type": "markdown",
   "id": "76a82b9b",
   "metadata": {},
   "source": [
    "Finally, you make the predictions on your model.\n",
    "\n",
    "Run the code cell below."
   ]
  },
  {
   "cell_type": "code",
   "execution_count": 31,
   "id": "0d2b4cb8",
   "metadata": {},
   "outputs": [],
   "source": [
    "predictions = naive_bayes.predict(test_data)"
   ]
  },
  {
   "cell_type": "markdown",
   "id": "08ce713c",
   "metadata": {},
   "source": [
    "Now you are ready to check the accuracy using actual and predicted values.\n",
    "\n",
    "### Question 15\n",
    "\n",
    "In the code cell below, fill in the ellipsis with *`y_test`* and *`predictions`* to compute the accuracy of your model."
   ]
  },
  {
   "cell_type": "code",
   "execution_count": 32,
   "id": "594ee619",
   "metadata": {},
   "outputs": [],
   "source": [
    "#Import scikit-learn metrics module for accuracy calculation\n",
    "from sklearn.metrics import accuracy_score\n",
    "\n",
    "# Model Accuracy, how often is the classifier correct?\n",
    "accuracy_score = accuracy_score(y_test, predictions)"
   ]
  },
  {
   "cell_type": "code",
   "execution_count": 33,
   "id": "a77ef7cd",
   "metadata": {},
   "outputs": [
    {
     "name": "stdout",
     "output_type": "stream",
     "text": [
      "0.9885139985642498\n"
     ]
    }
   ],
   "source": [
    "print(accuracy_score)"
   ]
  },
  {
   "cell_type": "code",
   "execution_count": null,
   "id": "7f6101a4",
   "metadata": {},
   "outputs": [],
   "source": []
  }
 ],
 "metadata": {
  "kernelspec": {
   "display_name": "Python 3 (ipykernel)",
   "language": "python",
   "name": "python3"
  },
  "language_info": {
   "codemirror_mode": {
    "name": "ipython",
    "version": 3
   },
   "file_extension": ".py",
   "mimetype": "text/x-python",
   "name": "python",
   "nbconvert_exporter": "python",
   "pygments_lexer": "ipython3",
   "version": "3.8.8"
  }
 },
 "nbformat": 4,
 "nbformat_minor": 5
}
